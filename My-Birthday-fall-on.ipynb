{
 "cells": [
  {
   "cell_type": "code",
   "execution_count": 1,
   "metadata": {},
   "outputs": [
    {
     "name": "stdout",
     "output_type": "stream",
     "text": [
      "4/17/2023 falls on a Monday.\n",
      "4/17/2024 falls on a Wednesday.\n",
      "4/17/2025 falls on a Thursday.\n",
      "4/17/2026 falls on a Friday.\n",
      "4/17/2027 falls on a Saturday.\n",
      "4/17/2028 falls on a Monday.\n",
      "4/17/2029 falls on a Tuesday.\n",
      "4/17/2030 falls on a Wednesday.\n",
      "4/17/2031 falls on a Thursday.\n",
      "4/17/2032 falls on a Saturday.\n",
      "4/17/2033 falls on a Sunday.\n",
      "4/17/2034 falls on a Monday.\n",
      "4/17/2035 falls on a Tuesday.\n",
      "4/17/2036 falls on a Thursday.\n",
      "4/17/2037 falls on a Friday.\n",
      "4/17/2038 falls on a Saturday.\n",
      "4/17/2039 falls on a Sunday.\n",
      "4/17/2040 falls on a Tuesday.\n",
      "4/17/2041 falls on a Wednesday.\n",
      "4/17/2042 falls on a Thursday.\n"
     ]
    }
   ],
   "source": [
    "import datetime\n",
    "\n",
    "# Ask for user input for birthday date\n",
    "day = int(input(\"Enter the day of your birthday (e.g. 21): \"))\n",
    "month = int(input(\"Enter the month of your birthday (e.g. 4): \"))\n",
    "year = int(input(\"Enter the year of your birthday (e.g. 2000): \"))\n",
    "\n",
    "# Ask for user input for number of years to calculate birthday day name\n",
    "num_years = int(input(\"Enter the number of years in the future to calculate the birthday day name for: \"))\n",
    "\n",
    "\n",
    "# Input your birth date in the format (year, month, day)\n",
    "birthday = datetime.date(year, month, day)\n",
    "\n",
    "# Get the current year\n",
    "current_year = datetime.datetime.now().year\n",
    "\n",
    "# Print the day name of your birthday for the next 10 years\n",
    "for i in range(num_years):\n",
    "    year = current_year + i\n",
    "    day_name = birthday.replace(year=year).strftime(\"%A\")\n",
    "    print(f\"{birthday.month}/{birthday.day}/{year} falls on a {day_name}.\")\n"
   ]
  },
  {
   "cell_type": "code",
   "execution_count": null,
   "metadata": {},
   "outputs": [],
   "source": []
  }
 ],
 "metadata": {
  "kernelspec": {
   "display_name": "Python 3",
   "language": "python",
   "name": "python3"
  },
  "language_info": {
   "codemirror_mode": {
    "name": "ipython",
    "version": 3
   },
   "file_extension": ".py",
   "mimetype": "text/x-python",
   "name": "python",
   "nbconvert_exporter": "python",
   "pygments_lexer": "ipython3",
   "version": "3.10.11"
  },
  "orig_nbformat": 4
 },
 "nbformat": 4,
 "nbformat_minor": 2
}
